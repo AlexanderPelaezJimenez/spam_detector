{
 "cells": [
  {
   "cell_type": "code",
   "execution_count": null,
   "id": "c00b6ba3",
   "metadata": {},
   "outputs": [],
   "source": [
    "import pandas as pd\n",
    "import numpy as np\n",
    "\n",
    "import sys\n",
    "import os\n",
    "\n",
    "# Ajustar path para importar el módulo \n",
    "sys.path.append('../scripts')  # Asume que el script está en una carpeta 'scripts' al mismo nivel\n"
   ]
  },
  {
   "cell_type": "code",
   "execution_count": 2,
   "id": "e2275018",
   "metadata": {},
   "outputs": [],
   "source": [
    "# Importar el procesador de datos\n",
    "from data_processor import SpamAnalyzer"
   ]
  },
  {
   "cell_type": "code",
   "execution_count": 3,
   "id": "2d89b920",
   "metadata": {},
   "outputs": [],
   "source": [
    "df_proyectos = pd.read_excel('../data/Datos_AyC.xlsx', sheet_name='hoja_2')\n",
    "df_datos = pd.read_excel('../data/Datos_AyC.xlsx', sheet_name='hoja_1')"
   ]
  },
  {
   "cell_type": "code",
   "execution_count": 4,
   "id": "a41c09b8",
   "metadata": {},
   "outputs": [],
   "source": [
    "# Definir nombres de columnas relevantes (si son diferentes a los predeterminados)\n",
    "COL_NEGOCIO = 'Nombre del negocio'\n",
    "COL_PROYECTO_DATOS = 'Nombre del proyecto'\n",
    "COL_PROYECTO_LISTA = 'PROYECTOS AÑO 2025'"
   ]
  },
  {
   "cell_type": "code",
   "execution_count": 5,
   "id": "8e27c7d8",
   "metadata": {},
   "outputs": [],
   "source": [
    "# Crear instancia del analizador y procesar los datos en un solo paso\n",
    "analyzer = SpamAnalyzer()\n",
    "df_procesado, estadisticas = analyzer.analyze_data(\n",
    "    df_datos, \n",
    "    df_proyectos,\n",
    "    col_negocio=COL_NEGOCIO,\n",
    "    col_proyecto_datos=COL_PROYECTO_DATOS,\n",
    "    col_proyecto_lista=COL_PROYECTO_LISTA\n",
    ")"
   ]
  },
  {
   "cell_type": "code",
   "execution_count": 6,
   "id": "13331a95",
   "metadata": {},
   "outputs": [
    {
     "data": {
      "text/plain": [
       "{'spam_count': 725,\n",
       " 'total_count': 18438,\n",
       " 'spam_percentage': 3.9320967566981233}"
      ]
     },
     "execution_count": 6,
     "metadata": {},
     "output_type": "execute_result"
    }
   ],
   "source": [
    "estadisticas"
   ]
  },
  {
   "cell_type": "code",
   "execution_count": null,
   "id": "aaa81267",
   "metadata": {},
   "outputs": [],
   "source": [
    "df_procesado[df_procesado['Spam'] == 1][['Nombre_de_la_persona_normalizado']]"
   ]
  },
  {
   "cell_type": "code",
   "execution_count": null,
   "id": "02bbc11a",
   "metadata": {},
   "outputs": [],
   "source": [
    "df_procesado[df_procesado['Spam'] == 0][['Nombre_de_la_persona_normalizado']]"
   ]
  },
  {
   "cell_type": "code",
   "execution_count": null,
   "id": "85310bed",
   "metadata": {},
   "outputs": [],
   "source": []
  }
 ],
 "metadata": {
  "kernelspec": {
   "display_name": "Python 3",
   "language": "python",
   "name": "python3"
  },
  "language_info": {
   "codemirror_mode": {
    "name": "ipython",
    "version": 3
   },
   "file_extension": ".py",
   "mimetype": "text/x-python",
   "name": "python",
   "nbconvert_exporter": "python",
   "pygments_lexer": "ipython3",
   "version": "3.9.20"
  }
 },
 "nbformat": 4,
 "nbformat_minor": 5
}
